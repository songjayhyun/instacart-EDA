{
 "cells": [
  {
   "cell_type": "code",
   "execution_count": 1,
   "id": "2eb1fb3d-8859-40c5-bb41-43aeff694c90",
   "metadata": {},
   "outputs": [],
   "source": [
    "import pandas as pd\n",
    "\n",
    "orders_data = pd.read_csv('./orders.csv') # orders\n",
    "order_products__prior_data = pd.read_csv('./order_products__prior.csv') # order_products__prior\n",
    "products_data = pd.read_csv('./products.csv') # products\n",
    "aisles_data = pd.read_csv('./aisles.csv') # aisles\n",
    "order_products__train_data = pd.read_csv('./order_products__train.csv') # order_products_train\n",
    "\n",
    "new_orders = orders_data.drop(orders_data[orders_data['eval_set'] == 'test'].index, axis=0) # test drop한 orders\n",
    "\n",
    "order_products_data = pd.merge(order_products__prior_data, order_products__train_data, how='outer') # prior + train\n",
    "\n",
    "orders_products = pd.merge(order_products_data, new_orders, on='order_id') # orders + order_products\n",
    "\n",
    "mean_prior_order_by_users = new_orders.groupby('user_id')['days_since_prior_order'].mean().round() # 구매주기 평균 구하기"
   ]
  },
  {
   "cell_type": "code",
   "execution_count": 2,
   "id": "da941022-8d37-4025-ba09-86893b4d94d7",
   "metadata": {},
   "outputs": [],
   "source": [
    "# 이탈자 데이터 프레임 구하기\n",
    "\n",
    "import numpy as np\n",
    "churn_days = 27 # 이탈 구매 주기\n",
    "\n",
    "mean_prior_order_by_users = pd.DataFrame(mean_prior_order_by_users)\n",
    "mean_prior_order_by_users['days_since_prior_order'] = np.where(mean_prior_order_by_users['days_since_prior_order'] >= churn_days, True, False)\n",
    "mean_prior_order_by_users.rename(columns={'days_since_prior_order':'churn'}, inplace=True)"
   ]
  },
  {
   "cell_type": "code",
   "execution_count": 4,
   "id": "15b7d8cd-7898-4fa8-8ab6-b59f523cead3",
   "metadata": {},
   "outputs": [],
   "source": [
    "# 평균 cart 제품에 따른 데이터 프레임 구하기\n",
    "\n",
    "orders_products_count = orders_products.groupby('order_id').size()\n",
    "orders_products_count = pd.DataFrame(orders_products_count)\n",
    "orders_products_count = orders_products_count.rename(columns={0: 'carts'})\n",
    "orders_products_count['carts'] = np.where(orders_products_count['carts'] >= 10, '평균 이상', '평균 이하') # 장바구니 평균 개수인 10개가 이상이라면 평균 이상, 아니면 평균 이하\n",
    "\n",
    "p1 = pd.merge(orders_products, orders_products_count, on='order_id') # order_products와 join\n",
    "p2 = pd.merge(p1, mean_prior_order_by_users, on='user_id') # 이탈 dataframe과 join"
   ]
  },
  {
   "cell_type": "code",
   "execution_count": 4,
   "id": "e2634ae7-0b40-45f3-8c05-b1a5918dfd69",
   "metadata": {},
   "outputs": [],
   "source": [
    "p2 = pd.merge(orders_products, mean_prior_order_by_users, on='user_id') # 이탈 dataframe과 join"
   ]
  },
  {
   "cell_type": "code",
   "execution_count": 7,
   "id": "6bbbf0bb-99cc-4dd3-a45f-85e2f3103c80",
   "metadata": {},
   "outputs": [
    {
     "name": "stdout",
     "output_type": "stream",
     "text": [
      "Churn이 True이면서 carts가 '평균 이하'인 사용자의 비율: 69.55%\n"
     ]
    }
   ],
   "source": [
    "# churn이 True/False이면서 carts가 '평균 이하'/'평균 이상' 인 사용자 추출\n",
    "\n",
    "#filtered_users = p2[(p2['churn']) & (p2['carts'] == '평균 이하')] # 이탈자 이면서 평균이하\n",
    "filtered_users = p2[(p2['churn']== False) & (p2['carts'] == '평균 이하')] # 비이탈자이면서 평균이하\n",
    "\n",
    "# 전체 사용자 수와 조건을 만족하는 사용자 수 계산\n",
    "total_users = p2['user_id'].nunique()\n",
    "filtered_users_count = filtered_users['user_id'].nunique()\n",
    "\n",
    "# 비율 계산\n",
    "ratio = filtered_users_count / total_users\n",
    "\n",
    "print(f\"Churn이 True이면서 carts가 '평균 이하'인 사용자의 비율: {ratio:.2%}\")"
   ]
  },
  {
   "cell_type": "code",
   "execution_count": 8,
   "id": "9e520c48-b7f1-4d34-852f-0b68fd048e91",
   "metadata": {},
   "outputs": [
    {
     "data": {
      "image/png": "[encoded data removed]",
      "text/plain": [
       "<Figure size 640x480 with 1 Axes>"
      ]
     },
     "metadata": {},
     "output_type": "display_data"
    }
   ],
   "source": [
    "import matplotlib.pyplot as plt\n",
    "\n",
    "labels = ['under', 'over']\n",
    "sizes = [ratio, 1 - ratio]\n",
    "colors = ['#ff9999','#66b3ff']\n",
    "\n",
    "fig1, ax1 = plt.subplots()\n",
    "ax1.pie(sizes, labels=labels, colors=colors, autopct='%1.1f%%', startangle=90)\n",
    "ax1.axis('equal')  # Equal aspect ratio ensures that pie is drawn as a circle.\n",
    "\n",
    "#plt.title('Add-cart Average Churn Ratio') # 이탈자\n",
    "plt.title('Add-cart Average UnChurn Ratio') # 비이탈자\n",
    "plt.show()"
   ]
  },
  {
   "cell_type": "code",
   "execution_count": 26,
   "id": "876603f9-2586-4b78-a24e-d7ec9c898adc",
   "metadata": {},
   "outputs": [
    {
     "data": {
      "text/plain": [
       "15114"
      ]
     },
     "execution_count": 26,
     "metadata": {},
     "output_type": "execute_result"
    }
   ],
   "source": [
    "#mean_prior_order_by_users = new_orders.groupby('user_id')['days_since_prior_order'].mean().round() # 구매주기 평균 구하기\n",
    "mean_prior_order_by_users['churn'].apply(lambda x:x==True).sum()"
   ]
  },
  {
   "cell_type": "code",
   "execution_count": 27,
   "id": "d28c581c-537c-409a-a4ef-7847442d6521",
   "metadata": {},
   "outputs": [
    {
     "data": {
      "text/plain": [
       "7.329457007211131"
      ]
     },
     "execution_count": 27,
     "metadata": {},
     "output_type": "execute_result"
    }
   ],
   "source": [
    "15114/206209 * 100"
   ]
  },
  {
   "cell_type": "code",
   "execution_count": 24,
   "id": "41237991-b8e2-4dba-b2c3-bf1336638c49",
   "metadata": {},
   "outputs": [],
   "source": [
    "mean_prior_order_by_users = new_orders.groupby('user_id')['days_since_prior_order'].mean().round() # 구매주기 평균 구하기"
   ]
  },
  {
   "cell_type": "code",
   "execution_count": 13,
   "id": "9b212385-65e9-48e5-bf4b-3b7fdc997693",
   "metadata": {},
   "outputs": [
    {
     "name": "stdout",
     "output_type": "stream",
     "text": [
      "이탈자와 비이탈자의 오전 구매시간 t-statistic: 55.31765884268559\n"
     ]
    },
    {
     "data": {
      "text/plain": [
       "0.0"
      ]
     },
     "execution_count": 13,
     "metadata": {},
     "output_type": "execute_result"
    }
   ],
   "source": [
    "import numpy as np\n",
    "\n",
    "# 이탈자들의 구매시간 데이터\n",
    "churned_data = p2[p2['churn'] == True]['order_hour_of_day'].dropna().values\n",
    "\n",
    "# 비이탈자들의 구매시간 데이터\n",
    "not_churned_data = p2[p2['churn'] == False]['order_hour_of_day'].dropna().values\n",
    "\n",
    "# 독립표본 t-검정 수행\n",
    "t_stat, p_value = stats.ttest_ind(churned_data, not_churned_data, equal_var=True)\n",
    "print(\"이탈자와 비이탈자의 오전 구매시간 t-statistic:\", t_stat)\n",
    "print(\"p-value:\", p_value)"
   ]
  },
  {
   "cell_type": "code",
   "execution_count": 19,
   "id": "fdf1ca84-17d3-4c95-97a7-84a2c81aa4e7",
   "metadata": {},
   "outputs": [
    {
     "data": {
      "text/plain": [
       "(-958.4296044845877, 0.0)"
      ]
     },
     "execution_count": 19,
     "metadata": {},
     "output_type": "execute_result"
    }
   ],
   "source": [
    "t_stat, p_value = stats.ttest_ind(morning_churned, afternoon_churned, equal_var=True)\n",
    "t_stat, p_value"
   ]
  },
  {
   "cell_type": "code",
   "execution_count": 6,
   "id": "3599604e-5c32-4d63-a2cf-9012f570e2bf",
   "metadata": {},
   "outputs": [
    {
     "name": "stdout",
     "output_type": "stream",
     "text": [
      "이탈자의 오전과 오후 구매 비율:\n",
      "order_hour_of_day\n",
      "afternoon    0.687446\n",
      "morning      0.312554\n",
      "Name: proportion, dtype: float64\n",
      "\n",
      "오전과 오후 구매 비율에 대한 t-statistic: 0.0\n",
      "p-value: 1.0\n"
     ]
    }
   ],
   "source": [
    "import scipy.stats as stats\n",
    "\n",
    "# 이탈자와 비이탈자 데이터 추출\n",
    "churned_data = p2[p2['churn'] == True]\n",
    "\n",
    "# 이탈자의 오전과 오후 구매 비율 계산\n",
    "churned_purchase_ratio = churned_data['order_hour_of_day'].apply(lambda x: 'morning' if x < 12 else 'afternoon').value_counts(normalize=True)\n",
    "\n",
    "# 결과 출력\n",
    "print(\"이탈자의 오전과 오후 구매 비율:\")\n",
    "print(churned_purchase_ratio)\n",
    "\n",
    "# 오전과 오후 비율 데이터를 기반으로 독립표본 t-검정 수행\n",
    "t_stat, p_value = stats.ttest_1samp(churned_purchase_ratio, 0.5)\n",
    "print(\"\\n오전과 오후 구매 비율에 대한 t-statistic:\", t_stat)\n",
    "print(\"p-value:\", p_value)\n"
   ]
  },
  {
   "cell_type": "code",
   "execution_count": 9,
   "id": "ad2b5fc3-0bb3-4315-961e-98256e30d862",
   "metadata": {},
   "outputs": [
    {
     "name": "stdout",
     "output_type": "stream",
     "text": [
      "이탈자의 오전과 오후 구매 비율:\n",
      "order_hour_of_day\n",
      "afternoon    0.646722\n",
      "morning      0.353278\n",
      "Name: proportion, dtype: float64\n",
      "\n",
      "오전과 오후 구매 비율에 대한 t-statistic: 0.0\n",
      "p-value: 1.0\n"
     ]
    }
   ],
   "source": [
    "# 이탈자와 비이탈자 데이터 추출\n",
    "churned_data = p2[p2['churn'] == False]\n",
    "\n",
    "# 이탈자의 오전과 오후 구매 비율 계산\n",
    "churned_purchase_ratio = churned_data['order_hour_of_day'].apply(lambda x: 'morning' if x < 12 else 'afternoon').value_counts(normalize=True)\n",
    "\n",
    "# 결과 출력\n",
    "print(\"이탈자의 오전과 오후 구매 비율:\")\n",
    "print(churned_purchase_ratio)\n",
    "\n",
    "# 오전과 오후 비율 데이터를 기반으로 독립표본 t-검정 수행\n",
    "t_stat, p_value = stats.ttest_1samp(churned_purchase_ratio, 0.5)\n",
    "print(\"\\n오전과 오후 구매 비율에 대한 t-statistic:\", t_stat)\n",
    "print(\"p-value:\", p_value)"
   ]
  },
  {
   "cell_type": "code",
   "execution_count": 16,
   "id": "42d80dd7-5c3a-45e8-aabe-35a54462f9d9",
   "metadata": {},
   "outputs": [
    {
     "data": {
      "text/plain": [
       "0            9\n",
       "1            9\n",
       "2            9\n",
       "3            9\n",
       "4            9\n",
       "            ..\n",
       "33819101    16\n",
       "33819102    16\n",
       "33819103    16\n",
       "33819104    16\n",
       "33819105    16\n",
       "Name: order_hour_of_day, Length: 33139985, dtype: int64"
      ]
     },
     "execution_count": 16,
     "metadata": {},
     "output_type": "execute_result"
    }
   ],
   "source": [
    "churned_data['order_hour_of_day']"
   ]
  },
  {
   "cell_type": "code",
   "execution_count": 14,
   "id": "f6a53ca7-bf40-4665-aa15-0a62d11a44d6",
   "metadata": {},
   "outputs": [
    {
     "data": {
      "text/plain": [
       "1914529"
      ]
     },
     "execution_count": 14,
     "metadata": {},
     "output_type": "execute_result"
    }
   ],
   "source": [
    "morning_churned.sum()"
   ]
  },
  {
   "cell_type": "code",
   "execution_count": 15,
   "id": "c81dacf4-aed4-4e6f-85d1-8a33a5fb28a3",
   "metadata": {},
   "outputs": [
    {
     "name": "stdout",
     "output_type": "stream",
     "text": [
      "<class 'pandas.core.series.Series'>\n",
      "Index: 212262 entries, 20125 to 33819002\n",
      "Series name: order_hour_of_day\n",
      "Non-Null Count   Dtype\n",
      "--------------   -----\n",
      "212262 non-null  int64\n",
      "dtypes: int64(1)\n",
      "memory usage: 3.2 MB\n"
     ]
    }
   ],
   "source": [
    "morning_churned.info()"
   ]
  },
  {
   "cell_type": "code",
   "execution_count": null,
   "id": "84258c57-1426-4d8b-8a29-fa9f74a6f811",
   "metadata": {},
   "outputs": [],
   "source": []
  }
 ],
 "metadata": {
  "kernelspec": {
   "display_name": "Python 3 (ipykernel)",
   "language": "python",
   "name": "python3"
  },
  "language_info": {
   "codemirror_mode": {
    "name": "ipython",
    "version": 3
   },
   "file_extension": ".py",
   "mimetype": "text/x-python",
   "name": "python",
   "nbconvert_exporter": "python",
   "pygments_lexer": "ipython3",
   "version": "3.12.0"
  }
 },
 "nbformat": 4,
 "nbformat_minor": 5
}
