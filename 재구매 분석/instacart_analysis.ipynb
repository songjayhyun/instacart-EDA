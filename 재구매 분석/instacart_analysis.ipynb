{
  "nbformat": 4,
  "nbformat_minor": 0,
  "metadata": {
    "colab": {
      "provenance": []
    },
    "kernelspec": {
      "name": "python3",
      "display_name": "Python 3"
    },
    "language_info": {
      "name": "python"
    }
  },
  "cells": [
    {
      "cell_type": "code",
      "execution_count": null,
      "metadata": {
        "id": "RA1MAO8EdnUz"
      },
      "outputs": [],
      "source": [
        "import pandas as pd\n",
        "import numpy as np\n",
        "\n",
        "from google.colab import auth\n",
        "from google.colab import drive\n",
        "auth.authenticate_user()\n",
        "drive.mount('/content/gdrive')\n",
        "path = '/content/gdrive/My Drive/Colab Notebooks/프로젝트2/'"
      ]
    },
    {
      "cell_type": "code",
      "source": [
        "orders=pd.read_csv(path+'orders.csv')"
      ],
      "metadata": {
        "id": "rP7IkOluec7m"
      },
      "execution_count": null,
      "outputs": []
    },
    {
      "cell_type": "markdown",
      "source": [
        "## **전체 사용자 평균 구매 주기**"
      ],
      "metadata": {
        "id": "MYncvouKeixM"
      }
    },
    {
      "cell_type": "code",
      "source": [
        "orders.groupby('user_id')['days_since_prior_order'].mean()"
      ],
      "metadata": {
        "id": "8lwEzP2Oedm5"
      },
      "execution_count": null,
      "outputs": []
    },
    {
      "cell_type": "code",
      "source": [
        "#각 사용자의 평균 주문 간격\n",
        "orders.groupby('user_id').agg({'days_since_prior_order':'mean'})"
      ],
      "metadata": {
        "id": "vUlnYap2erGv"
      },
      "execution_count": null,
      "outputs": []
    },
    {
      "cell_type": "code",
      "source": [
        "# 전체 사용자 평균 구매 주기\n",
        "total_prior_mean=orders.groupby('user_id').agg({'days_since_prior_order':'mean'})\n",
        "total_prior_mean.mean()"
      ],
      "metadata": {
        "id": "tOGM7aNGerv5"
      },
      "execution_count": null,
      "outputs": []
    },
    {
      "cell_type": "code",
      "source": [
        "orders.loc[(orders['order_number']==50)]"
      ],
      "metadata": {
        "id": "lRf2x4x-evTj"
      },
      "execution_count": null,
      "outputs": []
    },
    {
      "cell_type": "code",
      "source": [
        "opp=pd.read_csv(path+'order_products__prior.csv')"
      ],
      "metadata": {
        "id": "shkJj6tvexOC"
      },
      "execution_count": null,
      "outputs": []
    },
    {
      "cell_type": "code",
      "source": [
        "orders['eval_set'].value_counts()"
      ],
      "metadata": {
        "id": "9R49_lsXe0Kv"
      },
      "execution_count": null,
      "outputs": []
    },
    {
      "cell_type": "markdown",
      "source": [
        "## **재주문한 제품들과 사용자가 카트에 추가한 순서 간의 관계 확인**"
      ],
      "metadata": {
        "id": "1Twxa9Bee9JS"
      }
    },
    {
      "cell_type": "code",
      "source": [
        "# orders와 opp 데이터셋을 병합\n",
        "merged_data = pd.merge(orders, opp, on='order_id', how='inner')"
      ],
      "metadata": {
        "id": "Wfl3BwL1e9ps"
      },
      "execution_count": null,
      "outputs": []
    },
    {
      "cell_type": "code",
      "source": [
        "merged_data['add_to_cart_order'].value_counts()"
      ],
      "metadata": {
        "id": "byNYs-bMfCUa"
      },
      "execution_count": null,
      "outputs": []
    },
    {
      "cell_type": "code",
      "source": [
        "# 카트에 제품을 추가한 순서(add_to_cart_order)와 재주문 여부(reordered) 간의 관계 확인\n",
        "cart_reorder_relation = merged_data.groupby('add_to_cart_order')['reordered'].mean()"
      ],
      "metadata": {
        "id": "5l8rCkfhfKyJ"
      },
      "execution_count": null,
      "outputs": []
    },
    {
      "cell_type": "code",
      "source": [
        "# cart_reorder_relation = 각 카트에 제품을 추가한 순서별로 평균 재주문 비율\n",
        "cart_reorder_relation*100"
      ],
      "metadata": {
        "id": "WAFHQ0GmfMp8"
      },
      "execution_count": null,
      "outputs": []
    },
    {
      "cell_type": "markdown",
      "source": [
        "**특정 순서에서의 재주문 확률을 확인**\n",
        "1.   add_to_cart_order 컬럼을 기준으로 데이터를 그룹화:카트에 제품을 추가한 순서에 따라 데이터를 그룹화\n",
        "2.   그룹화된 데이터에서 'reordered' 컬럼의 평균을 계산\n",
        "\n",
        "*   'reordered'는 재주문 여부를 나타내는 컬럼, 값이 1이면 재주문을 의미하고 0이면 재주문하지 않은 것을 의미\n",
        "\n",
        "*    평균을 계산하면 해당 순서에서의 평균 재주문 비율이 나옴"
      ],
      "metadata": {
        "id": "62E-1INGfYW5"
      }
    },
    {
      "cell_type": "code",
      "source": [
        "# 시각화\n",
        "import seaborn as sns\n",
        "import matplotlib.pyplot as plt\n",
        "\n",
        "# 시각화 설정\n",
        "sns.set(style=\"whitegrid\")\n",
        "plt.figure(figsize=(12, 6))\n",
        "\n",
        "# 'add_to_cart_order'에 따른 재주문 비율 시각화\n",
        "sns.barplot(x=cart_reorder_relation.index, y=(cart_reorder_relation*100).values, color='skyblue')\n",
        "\n",
        "# 그래프 설정\n",
        "plt.title('Reorder Rate by Add to Cart Order')\n",
        "plt.xlabel('Add to Cart Order')\n",
        "plt.ylabel('Reorder Rate')\n",
        "plt.show()"
      ],
      "metadata": {
        "id": "ITVYvtA-fZCR"
      },
      "execution_count": null,
      "outputs": []
    },
    {
      "cell_type": "markdown",
      "source": [
        "## **특정 시간대별 재주문 분석**\n",
        "\n",
        "\n"
      ],
      "metadata": {
        "id": "lWPAmpkofpdn"
      }
    },
    {
      "cell_type": "code",
      "source": [
        "#주문 수와 함께 해당 시간대의 재주문 비율을 시각적으로 비교\n",
        "plt.figure(figsize=(12, 6))\n",
        "sns.countplot(x='order_hour_of_day', hue='reordered', data=merged_data)\n",
        "plt.title('Reorder Count by Order Hour of Day')\n",
        "plt.xlabel('Order Hour of Day')\n",
        "plt.ylabel('Count')\n",
        "plt.legend(title='Reordered', loc='upper right')\n",
        "plt.show()"
      ],
      "metadata": {
        "id": "7scMvjqtfrBq"
      },
      "execution_count": null,
      "outputs": []
    },
    {
      "cell_type": "code",
      "source": [
        "# 시간대별 주문 건수 계산\n",
        "orders_by_hour = merged_data.groupby('order_hour_of_day').size()\n",
        "orders_by_hour"
      ],
      "metadata": {
        "id": "UltlqIRvfxJ8"
      },
      "execution_count": null,
      "outputs": []
    },
    {
      "cell_type": "code",
      "source": [
        "plt.figure(figsize=(12, 6))\n",
        "orders_by_hour.plot(kind='bar', color='skyblue')\n",
        "plt.title('시간대별 주문 건수')\n",
        "plt.xlabel('주문 시간대')\n",
        "plt.ylabel('주문 건수')\n",
        "plt.show()"
      ],
      "metadata": {
        "id": "RrP9wAEYf0mr"
      },
      "execution_count": null,
      "outputs": []
    },
    {
      "cell_type": "code",
      "source": [
        "# 사용자의 첫 번째 주문과 그 이후 주문 간의 시간 간격 계산\n",
        "first_order_time = merged_data.groupby('user_id')['days_since_prior_order'].first()\n",
        "first_order_time"
      ],
      "metadata": {
        "id": "5gC1K6Etf3zp"
      },
      "execution_count": null,
      "outputs": []
    },
    {
      "cell_type": "code",
      "source": [
        "reordered_ratio2 = total.groupby('user_id')['reordered'].mean().reset_index()\n",
        "reordered_ratio2*100"
      ],
      "metadata": {
        "id": "k8K45Tazf54_"
      },
      "execution_count": null,
      "outputs": []
    },
    {
      "cell_type": "markdown",
      "source": [
        "## **재구매 패턴 분석**\n",
        "- \"reordered\" 컬럼을 사용하여 각 제품이 얼마나 자주 재주문되었는지 확인\n",
        "- reorder_count 컬럼:해당 제품의 총 재주문 횟수"
      ],
      "metadata": {
        "id": "VBG58tCqf9vV"
      }
    },
    {
      "cell_type": "code",
      "source": [
        "product=pd.read_csv(path+'products.csv')"
      ],
      "metadata": {
        "id": "n0XY6ooVf-Ps"
      },
      "execution_count": null,
      "outputs": []
    },
    {
      "cell_type": "code",
      "source": [
        "# merged_data 와 product 데이터셋을 병합\n",
        "merged_product = pd.merge(merged_data, product, on='product_id', how='left')\n",
        "merged_product.head()"
      ],
      "metadata": {
        "id": "k_329sDzgC3G"
      },
      "execution_count": null,
      "outputs": []
    },
    {
      "cell_type": "code",
      "source": [
        "# 각 제품별로 재주문 횟수 계산\n",
        "reorder_counts = merged_product.groupby('product_id')['reordered'].sum().reset_index()\n",
        "reorder_counts.columns = ['product_id', 'reorder_count']\n",
        "reorder_counts"
      ],
      "metadata": {
        "id": "u16r3Qu5gDsL"
      },
      "execution_count": null,
      "outputs": []
    },
    {
      "cell_type": "code",
      "source": [
        "user_retention = orders.groupby('user_id')['days_since_prior_order'].sum().reset_index()\n",
        "user_retention.sort_values(by='days_since_prior_order',ascending=False).head(50)"
      ],
      "metadata": {
        "id": "yna4uxIngG8j"
      },
      "execution_count": null,
      "outputs": []
    },
    {
      "cell_type": "markdown",
      "source": [
        "### **주문을 자주 하는 고객들이 재주문을 더 많이 할 수 있다 (?)**\n",
        "### **고객별 총 주문 횟수를 구해서 분석해볼까?**"
      ],
      "metadata": {
        "id": "1Z7GwhYugMhz"
      }
    },
    {
      "cell_type": "code",
      "source": [
        "customer_order_count = orders.groupby('user_id')['order_number'].count().reset_index()\n",
        "customer_order_count.columns = ['user_id', 'total_orders']\n",
        "customer_order_count.sort_values(by='total_orders',ascending=False).head(50)"
      ],
      "metadata": {
        "id": "FuJSpBgxgM4O"
      },
      "execution_count": null,
      "outputs": []
    },
    {
      "cell_type": "code",
      "source": [
        "reordered_ratio = opp.groupby('order_id')['reordered'].mean().reset_index()\n",
        "reordered_ratio*100"
      ],
      "metadata": {
        "id": "bRtOmt3fgPAK"
      },
      "execution_count": null,
      "outputs": []
    },
    {
      "cell_type": "code",
      "source": [
        "# 테이블에 유저아이디 추가\n",
        "mg=pd.merge(customer_order_count,orders,on='user_id', how='left')\n",
        "mg"
      ],
      "metadata": {
        "id": "OCqWy3blgUw2"
      },
      "execution_count": null,
      "outputs": []
    },
    {
      "cell_type": "code",
      "source": [
        "merge_table = pd.merge(reordered_ratio,mg, on='order_id', how='left')\n",
        "\n",
        "merge_table.loc[:,['user_id','order_id','reordered']]\n",
        "total= merge_table.loc[:,['user_id','order_id','reordered']]\n",
        "total.sort_values(by='reordered',ascending=False).head(30)"
      ],
      "metadata": {
        "id": "u6UMK9yagWf7"
      },
      "execution_count": null,
      "outputs": []
    },
    {
      "cell_type": "code",
      "source": [
        "correlation = customer_order_count['total_orders'].corr(reordered_ratio['reordered'])\n",
        "correlation\n"
      ],
      "metadata": {
        "id": "9vHMjHpLgZf4"
      },
      "execution_count": null,
      "outputs": []
    },
    {
      "cell_type": "markdown",
      "source": [
        "## 카테고리 재주문율 확인"
      ],
      "metadata": {
        "id": "xpPC7anbgafr"
      }
    },
    {
      "cell_type": "code",
      "source": [
        "df1=pd.read_csv(path+'top 5% order and products.csv')\n",
        "df2=pd.read_csv(path+'filtered_orders_high.csv')\n",
        "df3=pd.read_csv(path+'aisles.csv')"
      ],
      "metadata": {
        "id": "IG5IvnBog7eN"
      },
      "execution_count": null,
      "outputs": []
    },
    {
      "cell_type": "code",
      "source": [
        "merged_df = pd.concat([df1, df2], ignore_index=True)\n",
        "merged_df = pd.concat([merged_df, df3], ignore_index=True)"
      ],
      "metadata": {
        "id": "IXeEMBQRhCkQ"
      },
      "execution_count": null,
      "outputs": []
    },
    {
      "cell_type": "code",
      "source": [
        "reorder_rate_by_aisle = merged_df.groupby('aisle_id')['reordered'].mean().reset_index()\n",
        "reorder_rate_by_aisle = reorder_rate_by_aisle.sort_values(by='reordered',ascending=False)\n",
        "reorder_rate_by_aisle"
      ],
      "metadata": {
        "id": "XJQFOJ2uhDQX"
      },
      "execution_count": null,
      "outputs": []
    },
    {
      "cell_type": "code",
      "source": [
        "merged_df = pd.merge(reorder_rate_by_aisle, df3, left_on='aisle_id', right_on='aisle_id', how='left')\n",
        "merged_df.head(10)"
      ],
      "metadata": {
        "id": "IenMY8b-hFWM"
      },
      "execution_count": null,
      "outputs": []
    },
    {
      "cell_type": "markdown",
      "source": [
        "#### **재주문 비율: 사용자의 총 주문수에 대한 재주문된 품목의 주문수의 비율**\n",
        "높은 재주문률 : 재주문율 >= 임계치(70-80%)"
      ],
      "metadata": {
        "id": "hXhBg-g6hRhm"
      }
    },
    {
      "cell_type": "code",
      "source": [
        "orders=pd.read_csv(path+'top 5% order and products.csv')\n",
        "user=pd.read_csv(path+'filtered_orders_high.csv')"
      ],
      "metadata": {
        "id": "VGengr8ghG8j"
      },
      "execution_count": null,
      "outputs": []
    },
    {
      "cell_type": "code",
      "source": [
        "orders=pd.DataFrame(orders)\n",
        "orders"
      ],
      "metadata": {
        "id": "HlPwh_IGhVdb"
      },
      "execution_count": null,
      "outputs": []
    },
    {
      "cell_type": "code",
      "source": [
        "# order_id를 그룹화하고 각 product_id별 reordered된 수를 계산\n",
        "reordered_counts = orders.groupby(['order_id', 'product_id'])['reordered'].sum().reset_index()\n",
        "reordered_counts.head(20)"
      ],
      "metadata": {
        "id": "cfYKYJQ0hXu3"
      },
      "execution_count": null,
      "outputs": []
    },
    {
      "cell_type": "code",
      "source": [
        "# 계산된 reordered를 합한다. order_id별 reordered 갯수 알수 있음 = 이걸 재주문율 지표로 하기로 함\n",
        "reordered_counts.groupby(['order_id'])['reordered'].sum()"
      ],
      "metadata": {
        "id": "NSHq8xTNhZKg"
      },
      "execution_count": null,
      "outputs": []
    },
    {
      "cell_type": "code",
      "source": [
        "# order_id 별 재주문률 (★지표★)\n",
        "reordered_ratio = orders.groupby('order_id')['reordered'].mean().reset_index()\n",
        "reordered_ratio*100"
      ],
      "metadata": {
        "id": "KUoa8B2yhcQT"
      },
      "execution_count": null,
      "outputs": []
    },
    {
      "cell_type": "code",
      "source": [
        "# 테이블에 유저아이디 추가\n",
        "user= pd.DataFrame(user)\n",
        "merge_table = pd.merge(orders, user, on='order_id', how='left') # 두 테이블을 조인\n",
        "\n",
        "merge_table.loc[:,['user_id','order_id','product_id','reordered']]\n",
        "total= merge_table.loc[:,['user_id','order_id','product_id','reordered']]\n",
        "total"
      ],
      "metadata": {
        "id": "F7VGvrHAhd8w"
      },
      "execution_count": null,
      "outputs": []
    },
    {
      "cell_type": "code",
      "source": [
        "#use_id 별 재주문률\n",
        "reordered_ratio2 = total.groupby('user_id')['reordered'].mean().reset_index()\n",
        "reordered_ratio2*100"
      ],
      "metadata": {
        "id": "dgkWoplOhgA_"
      },
      "execution_count": null,
      "outputs": []
    },
    {
      "cell_type": "code",
      "source": [
        "df=pd.read_csv(path+'top 5% order and products.csv')\n",
        "df1=pd.read_csv(path+'filtered_orders_high.csv')\n",
        "\n",
        "# 각 order_id별 상품의 개수 계산\n",
        "order_product_count = df.groupby('order_id')['product_id'].count().reset_index()\n",
        "order_product_count.columns = ['order_id', 'product_count']\n",
        "\n",
        "# order_product_count DataFrame과 원본 df를 'order_id'를 기준으로 merge\n",
        "df = pd.merge(df, order_product_count, on='order_id', how='left')\n",
        "\n",
        "# 'product_count' col 값을 2로 나눈 값을 새로운 col로 추가\n",
        "df['product_count_divided'] = df['product_count'] / 2\n",
        "\n",
        "# 'product_count_divided' col을 기준으로 새로운 col 생성\n",
        "df['procedure'] = np.where(df['add_to_cart_order'] <= df['product_count_divided'], 'front', 'back')\n",
        "\n",
        "# 두 데이터셋을 'order_id'를 기준으로 merge\n",
        "merged_df = pd.merge(df, df1, on='order_id', how='left')\n",
        "\n",
        "# add_to_cart_order와 reordered 간의 관계 확인\n",
        "order_reorder_relationship = df.groupby('add_to_cart_order')['reordered'].mean().reset_index()\n",
        "order_reorder_relationship.columns = ['add_to_cart_order', 'mean_reordered']\n",
        "order_reorder_relationship\n",
        "\n",
        "# 각 카트에 제품을 추가한 순서별로 평균 재주문 비율 계산\n",
        "average_reordered_by_order = df.groupby('add_to_cart_order')['reordered'].mean().reset_index()\n",
        "average_reordered_by_order.columns = ['add_to_cart_order', 'average_reordered_ratio']\n",
        "average_reordered_by_order\n",
        "\n",
        "# 'add_to_cart_order'에 따른 재주문 비율 계산\n",
        "average_reordered_by_order = df.groupby(['add_to_cart_order', 'procedure'])['reordered'].mean().reset_index()\n",
        "\n",
        "# 시각화\n",
        "plt.figure(figsize=(12, 6))\n",
        "sns.lineplot(x='add_to_cart_order', y='reordered', data=average_reordered_by_order)\n",
        "plt.title('Reorder Ratio by Add to Cart Order')\n",
        "plt.xlabel('Add to Cart Order')\n",
        "plt.ylabel('Reorder Ratio')\n",
        "\n",
        "# x축 간격 조절\n",
        "plt.xticks(np.arange(1, df['add_to_cart_order'].max(), step=df['add_to_cart_order'].max()//20))\n",
        "\n",
        "plt.show()"
      ],
      "metadata": {
        "id": "eOiiARSuhi3m"
      },
      "execution_count": null,
      "outputs": []
    },
    {
      "cell_type": "markdown",
      "source": [
        "### **(상위5%) 제품을 추가한 순서와 재주문 간의 관계**\n"
      ],
      "metadata": {
        "id": "XeXJjfEjiEju"
      }
    },
    {
      "cell_type": "code",
      "source": [
        "# orders와 user 데이터셋을 병합\n",
        "merged_data = pd.merge(orders, user, on='order_id', how='inner')"
      ],
      "metadata": {
        "id": "pENQHo5viE5g"
      },
      "execution_count": null,
      "outputs": []
    },
    {
      "cell_type": "code",
      "source": [
        "# 카트에 제품을 추가한 순서(add_to_cart_order)와 재주문 여부(reordered) 간의 관계 확인\n",
        "cart_reorder_relation = merged_data.groupby('add_to_cart_order')['reordered'].mean()"
      ],
      "metadata": {
        "id": "-t0c9MqqiHPk"
      },
      "execution_count": null,
      "outputs": []
    },
    {
      "cell_type": "code",
      "source": [
        "# cart_reorder_relation = 각 카트에 제품을 추가한 순서별로 평균 재주문 비율\n",
        "cart_reorder_relation*100"
      ],
      "metadata": {
        "id": "8yvsqy4diJjY"
      },
      "execution_count": null,
      "outputs": []
    },
    {
      "cell_type": "code",
      "source": [
        "cart_reorder_relation = merged_data.groupby('add_to_cart_order')['reordered'].mean()\n",
        "\n",
        "# Segment를 나누기 위한 구간 설정\n",
        "segment_size = 10\n",
        "max_order = merged_data['add_to_cart_order'].max()\n",
        "\n",
        "# Segment 계산 및 새로운 컬럼 추가\n",
        "merged_data['add_to_cart_segment'] = pd.cut(merged_data['add_to_cart_order'], bins=range(0, max_order + segment_size, segment_size), right=False)\n",
        "\n",
        "# 재주문 비율 계산\n",
        "cart_reorder_relation_segmented = merged_data.groupby('add_to_cart_segment')['reordered'].mean()\n",
        "\n",
        "# 시각화 설정\n",
        "sns.set(style=\"whitegrid\")\n",
        "plt.figure(figsize=(12, 6))\n",
        "\n",
        "# 'add_to_cart_order'에 따른 재주문 비율 시각화\n",
        "sns.barplot(x=cart_reorder_relation_segmented.index, y=(cart_reorder_relation_segmented*100).values, color='skyblue')\n",
        "\n",
        "# 그래프 설정\n",
        "plt.title('Reorder Rate by Add to Cart Order Segment')\n",
        "plt.xlabel('Add to Cart Order Segment')\n",
        "plt.ylabel('Reorder Rate')\n",
        "plt.show()"
      ],
      "metadata": {
        "id": "ekgTnO0hiLU_"
      },
      "execution_count": null,
      "outputs": []
    },
    {
      "cell_type": "code",
      "source": [
        "# 시각화\n",
        "import seaborn as sns\n",
        "import matplotlib.pyplot as plt\n",
        "\n",
        "# 시각화 설정\n",
        "sns.set(style=\"whitegrid\")\n",
        "plt.figure(figsize=(12, 6))\n",
        "\n",
        "# 'add_to_cart_order'에 따른 재주문 비율 시각화\n",
        "sns.barplot(x=cart_reorder_relation.index, y=(cart_reorder_relation*100).values, color='skyblue')\n",
        "\n",
        "# 그래프 설정\n",
        "plt.title('Reorder Rate by Add to Cart Order')\n",
        "plt.xlabel('Add to Cart Order')\n",
        "plt.ylabel('Reorder Rate')\n",
        "plt.show()"
      ],
      "metadata": {
        "id": "J2ZalCHXiOwu"
      },
      "execution_count": null,
      "outputs": []
    },
    {
      "cell_type": "markdown",
      "source": [
        "## **(상위 5%) 특정 시간대별 재주문 분석**"
      ],
      "metadata": {
        "id": "eqwska66iUm4"
      }
    },
    {
      "cell_type": "code",
      "source": [
        "#주문 수와 함께 해당 시간대의 재주문 비율을 시각적으로 비교\n",
        "plt.figure(figsize=(12, 6))\n",
        "sns.countplot(x='order_hour_of_day',hue='reordered', data=merged_data)\n",
        "plt.title('Reorder Count by Order Hour of Day')\n",
        "plt.xlabel('Order Hour of Day')\n",
        "plt.ylabel('Count')\n",
        "plt.legend(title='Reordered', loc='upper right')\n",
        "plt.show()"
      ],
      "metadata": {
        "id": "LOp37gcKiUYv"
      },
      "execution_count": null,
      "outputs": []
    },
    {
      "cell_type": "code",
      "source": [
        "orders_by_hour = merged_data.groupby('order_hour_of_day').size()\n",
        "orders_by_hour"
      ],
      "metadata": {
        "id": "MjCKIlUIiRo_"
      },
      "execution_count": null,
      "outputs": []
    },
    {
      "cell_type": "code",
      "source": [
        "plt.figure(figsize=(12, 6))\n",
        "orders_by_hour.plot(kind='bar', color='skyblue')\n",
        "plt.xlabel('order_hour_of_day')\n",
        "plt.ylabel('count')\n",
        "plt.show()"
      ],
      "metadata": {
        "id": "PWHf7bMxib8W"
      },
      "execution_count": null,
      "outputs": []
    },
    {
      "cell_type": "code",
      "source": [
        "# order_id 별 재주문률 (★지표★)\n",
        "reordered_ratio = orders.groupby('order_id')['reordered'].mean().reset_index()\n",
        "reordered_ratio*100"
      ],
      "metadata": {
        "id": "SCz28LiAieEa"
      },
      "execution_count": null,
      "outputs": []
    },
    {
      "cell_type": "markdown",
      "source": [
        "### **(상위5%)재구매 패턴 분석**\n",
        "- \"reordered\" 컬럼을 사용하여 각 제품이 얼마나 자주 재주문되었는지 확인\n",
        "- reorder_count 컬럼:해당 제품의 총 재주문 횟수"
      ],
      "metadata": {
        "id": "Z7cEUi9_ijhZ"
      }
    },
    {
      "cell_type": "code",
      "source": [
        " products=pd.read_csv(path+'products.csv')"
      ],
      "metadata": {
        "id": "OmmaKZyHihG3"
      },
      "execution_count": null,
      "outputs": []
    },
    {
      "cell_type": "code",
      "source": [
        "# 각 제품별로 재주문 횟수 계산\n",
        "reorder_counts = orders.groupby('product_id')['reordered'].sum().reset_index()\n",
        "reorder_counts.columns = ['product_id', 'reorder_count']\n",
        "reorder_counts.sort_values(by='reorder_count',ascending=False)"
      ],
      "metadata": {
        "id": "QFoY-fw8ipVA"
      },
      "execution_count": null,
      "outputs": []
    },
    {
      "cell_type": "code",
      "source": [
        "merged_product_name = pd.merge(reorder_counts , products, on='product_id', how='left')\n",
        "merged_product_name.sort_values(by='reorder_count',ascending=False)\n",
        "merged_product_name.loc[:,['product_id','reorder_count','product_name']].sort_values(by='reorder_count',ascending=False).head(30)"
      ],
      "metadata": {
        "id": "h1vlf2dPipvQ"
      },
      "execution_count": null,
      "outputs": []
    },
    {
      "cell_type": "markdown",
      "source": [
        "## **user loyalty 분석**\n",
        "- 사용자의 첫 번째 주문과 그 이후 주문 간의 시간 간격 계산"
      ],
      "metadata": {
        "id": "NAYrLFAIiu3k"
      }
    },
    {
      "cell_type": "code",
      "source": [
        "# 사용자별로 첫 번째 주문 이후 얼마나 오랜 기간 동안 주문을 유지하는지 계산\n",
        "user_retention = user.groupby('user_id')['days_since_prior_order'].sum().reset_index()\n",
        "user_retention.sort_values(by='days_since_prior_order',ascending=False).head(50)"
      ],
      "metadata": {
        "id": "rkULFW1ZisOa"
      },
      "execution_count": null,
      "outputs": []
    }
  ]
}